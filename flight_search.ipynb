{
 "cells": [
  {
   "metadata": {
    "trusted": true
   },
   "cell_type": "code",
   "source": "from flights.amadeus import get_flights",
   "execution_count": 1,
   "outputs": []
  },
  {
   "metadata": {
    "trusted": true
   },
   "cell_type": "code",
   "source": "get_flights(start='LPA', end='AGP', when='2024-08-10') \\\n    .assign(price_eur=lambda x: x['price_eur'] / 4)",
   "execution_count": 2,
   "outputs": [
    {
     "output_type": "execute_result",
     "execution_count": 2,
     "data": {
      "text/plain": "            airline            departure  t_from              arrival  \\\n0            IBERIA  2024-08-10T13:20:00       0  2024-08-10T16:40:00   \n1  VUELING AIRLINES  2024-08-10T13:20:00       0  2024-08-10T16:40:00   \n2            IBERIA  2024-08-10T20:15:00       0  2024-08-10T23:35:00   \n3  VUELING AIRLINES  2024-08-10T20:15:00       0  2024-08-10T23:35:00   \n\n  price_eur  t_to  \n0   44.5225     0  \n1   44.5225     0  \n2   44.5225     0  \n3   44.5225     0  ",
      "text/html": "<div>\n<style scoped>\n    .dataframe tbody tr th:only-of-type {\n        vertical-align: middle;\n    }\n\n    .dataframe tbody tr th {\n        vertical-align: top;\n    }\n\n    .dataframe thead th {\n        text-align: right;\n    }\n</style>\n<table border=\"1\" class=\"dataframe\">\n  <thead>\n    <tr style=\"text-align: right;\">\n      <th></th>\n      <th>airline</th>\n      <th>departure</th>\n      <th>t_from</th>\n      <th>arrival</th>\n      <th>price_eur</th>\n      <th>t_to</th>\n    </tr>\n  </thead>\n  <tbody>\n    <tr>\n      <th>0</th>\n      <td>IBERIA</td>\n      <td>2024-08-10T13:20:00</td>\n      <td>0</td>\n      <td>2024-08-10T16:40:00</td>\n      <td>44.5225</td>\n      <td>0</td>\n    </tr>\n    <tr>\n      <th>1</th>\n      <td>VUELING AIRLINES</td>\n      <td>2024-08-10T13:20:00</td>\n      <td>0</td>\n      <td>2024-08-10T16:40:00</td>\n      <td>44.5225</td>\n      <td>0</td>\n    </tr>\n    <tr>\n      <th>2</th>\n      <td>IBERIA</td>\n      <td>2024-08-10T20:15:00</td>\n      <td>0</td>\n      <td>2024-08-10T23:35:00</td>\n      <td>44.5225</td>\n      <td>0</td>\n    </tr>\n    <tr>\n      <th>3</th>\n      <td>VUELING AIRLINES</td>\n      <td>2024-08-10T20:15:00</td>\n      <td>0</td>\n      <td>2024-08-10T23:35:00</td>\n      <td>44.5225</td>\n      <td>0</td>\n    </tr>\n  </tbody>\n</table>\n</div>"
     },
     "metadata": {}
    }
   ]
  },
  {
   "metadata": {
    "trusted": true
   },
   "cell_type": "code",
   "source": "get_flights(start='AGP', end='VNO', when='2024-08-10', range=20)",
   "execution_count": 3,
   "outputs": [
    {
     "output_type": "execute_result",
     "execution_count": 3,
     "data": {
      "text/plain": "      airline            departure  t_from              arrival price_eur  \\\n0  AIR BALTIC  2024-08-10T18:35:00       0  2024-08-10T23:50:00    160.05   \n1  AIR BALTIC  2024-08-17T18:35:00       0  2024-08-17T23:50:00    124.05   \n2  AIR BALTIC  2024-08-24T18:35:00       0  2024-08-24T23:50:00    124.05   \n\n   t_to  \n0     0  \n1     0  \n2     0  ",
      "text/html": "<div>\n<style scoped>\n    .dataframe tbody tr th:only-of-type {\n        vertical-align: middle;\n    }\n\n    .dataframe tbody tr th {\n        vertical-align: top;\n    }\n\n    .dataframe thead th {\n        text-align: right;\n    }\n</style>\n<table border=\"1\" class=\"dataframe\">\n  <thead>\n    <tr style=\"text-align: right;\">\n      <th></th>\n      <th>airline</th>\n      <th>departure</th>\n      <th>t_from</th>\n      <th>arrival</th>\n      <th>price_eur</th>\n      <th>t_to</th>\n    </tr>\n  </thead>\n  <tbody>\n    <tr>\n      <th>0</th>\n      <td>AIR BALTIC</td>\n      <td>2024-08-10T18:35:00</td>\n      <td>0</td>\n      <td>2024-08-10T23:50:00</td>\n      <td>160.05</td>\n      <td>0</td>\n    </tr>\n    <tr>\n      <th>1</th>\n      <td>AIR BALTIC</td>\n      <td>2024-08-17T18:35:00</td>\n      <td>0</td>\n      <td>2024-08-17T23:50:00</td>\n      <td>124.05</td>\n      <td>0</td>\n    </tr>\n    <tr>\n      <th>2</th>\n      <td>AIR BALTIC</td>\n      <td>2024-08-24T18:35:00</td>\n      <td>0</td>\n      <td>2024-08-24T23:50:00</td>\n      <td>124.05</td>\n      <td>0</td>\n    </tr>\n  </tbody>\n</table>\n</div>"
     },
     "metadata": {}
    }
   ]
  },
  {
   "metadata": {
    "trusted": true
   },
   "cell_type": "code",
   "source": "get_flights(start='RIX', end='MAD', when='2024-09-08')",
   "execution_count": 4,
   "outputs": [
    {
     "output_type": "execute_result",
     "execution_count": 4,
     "data": {
      "text/plain": "      airline            departure  t_from              arrival price_eur t_to\n0  AIR BALTIC  2024-09-08T13:10:00       0  2024-09-08T16:20:00    114.32    4\n1      IBERIA  2024-09-08T13:10:00       0  2024-09-08T16:20:00    267.32    4",
      "text/html": "<div>\n<style scoped>\n    .dataframe tbody tr th:only-of-type {\n        vertical-align: middle;\n    }\n\n    .dataframe tbody tr th {\n        vertical-align: top;\n    }\n\n    .dataframe thead th {\n        text-align: right;\n    }\n</style>\n<table border=\"1\" class=\"dataframe\">\n  <thead>\n    <tr style=\"text-align: right;\">\n      <th></th>\n      <th>airline</th>\n      <th>departure</th>\n      <th>t_from</th>\n      <th>arrival</th>\n      <th>price_eur</th>\n      <th>t_to</th>\n    </tr>\n  </thead>\n  <tbody>\n    <tr>\n      <th>0</th>\n      <td>AIR BALTIC</td>\n      <td>2024-09-08T13:10:00</td>\n      <td>0</td>\n      <td>2024-09-08T16:20:00</td>\n      <td>114.32</td>\n      <td>4</td>\n    </tr>\n    <tr>\n      <th>1</th>\n      <td>IBERIA</td>\n      <td>2024-09-08T13:10:00</td>\n      <td>0</td>\n      <td>2024-09-08T16:20:00</td>\n      <td>267.32</td>\n      <td>4</td>\n    </tr>\n  </tbody>\n</table>\n</div>"
     },
     "metadata": {}
    }
   ]
  },
  {
   "metadata": {
    "trusted": true
   },
   "cell_type": "code",
   "source": "get_flights(start='MAD', end='LPA', when='2024-09-08') \\\n    .assign(price_eur=lambda x: x['price_eur'] / 4)",
   "execution_count": 5,
   "outputs": [
    {
     "output_type": "execute_result",
     "execution_count": 5,
     "data": {
      "text/plain": "             airline            departure t_from              arrival  \\\n0             IBERIA  2024-09-08T00:05:00      4  2024-09-08T02:00:00   \n1   VUELING AIRLINES  2024-09-08T00:05:00      4  2024-09-08T02:00:00   \n2             IBERIA  2024-09-08T06:55:00      4  2024-09-08T08:50:00   \n3   VUELING AIRLINES  2024-09-08T06:55:00      4  2024-09-08T08:50:00   \n4    BINTER CANARIAS  2024-09-08T07:00:00      2  2024-09-08T08:50:00   \n5         AIR EUROPA  2024-09-08T07:05:00      2  2024-09-08T09:00:00   \n6             IBERIA  2024-09-08T11:30:00      4  2024-09-08T13:25:00   \n7    BINTER CANARIAS  2024-09-08T12:30:00      2  2024-09-08T14:20:00   \n8             IBERIA  2024-09-08T14:25:00      4  2024-09-08T16:20:00   \n9   VUELING AIRLINES  2024-09-08T14:25:00      4  2024-09-08T16:20:00   \n10        AIR EUROPA  2024-09-08T15:05:00      2  2024-09-08T17:00:00   \n11            IBERIA  2024-09-08T16:20:00      4  2024-09-08T18:20:00   \n12  VUELING AIRLINES  2024-09-08T16:20:00      4  2024-09-08T18:20:00   \n13   BINTER CANARIAS  2024-09-08T17:00:00      2  2024-09-08T18:50:00   \n14            IBERIA  2024-09-08T18:35:00      4  2024-09-08T20:30:00   \n15  VUELING AIRLINES  2024-09-08T18:35:00      4  2024-09-08T20:30:00   \n16   BINTER CANARIAS  2024-09-08T20:00:00      2  2024-09-08T21:50:00   \n17        AIR EUROPA  2024-09-08T20:10:00      2  2024-09-08T22:05:00   \n18            IBERIA  2024-09-08T20:25:00      4  2024-09-08T22:20:00   \n19            IBERIA  2024-09-08T22:50:00      4  2024-09-09T00:45:00   \n\n   price_eur  t_to  \n0      24.20     0  \n1      41.95     0  \n2      24.20     0  \n3      41.95     0  \n4      32.20     0  \n5     18.825     0  \n6      35.45     0  \n7      32.20     0  \n8      56.95     0  \n9      41.95     0  \n10    34.325     0  \n11     66.95     0  \n12     41.95     0  \n13     37.20     0  \n14     66.95     0  \n15     41.95     0  \n16     34.70     0  \n17    44.325     0  \n18     66.95     0  \n19     41.95     0  ",
      "text/html": "<div>\n<style scoped>\n    .dataframe tbody tr th:only-of-type {\n        vertical-align: middle;\n    }\n\n    .dataframe tbody tr th {\n        vertical-align: top;\n    }\n\n    .dataframe thead th {\n        text-align: right;\n    }\n</style>\n<table border=\"1\" class=\"dataframe\">\n  <thead>\n    <tr style=\"text-align: right;\">\n      <th></th>\n      <th>airline</th>\n      <th>departure</th>\n      <th>t_from</th>\n      <th>arrival</th>\n      <th>price_eur</th>\n      <th>t_to</th>\n    </tr>\n  </thead>\n  <tbody>\n    <tr>\n      <th>0</th>\n      <td>IBERIA</td>\n      <td>2024-09-08T00:05:00</td>\n      <td>4</td>\n      <td>2024-09-08T02:00:00</td>\n      <td>24.20</td>\n      <td>0</td>\n    </tr>\n    <tr>\n      <th>1</th>\n      <td>VUELING AIRLINES</td>\n      <td>2024-09-08T00:05:00</td>\n      <td>4</td>\n      <td>2024-09-08T02:00:00</td>\n      <td>41.95</td>\n      <td>0</td>\n    </tr>\n    <tr>\n      <th>2</th>\n      <td>IBERIA</td>\n      <td>2024-09-08T06:55:00</td>\n      <td>4</td>\n      <td>2024-09-08T08:50:00</td>\n      <td>24.20</td>\n      <td>0</td>\n    </tr>\n    <tr>\n      <th>3</th>\n      <td>VUELING AIRLINES</td>\n      <td>2024-09-08T06:55:00</td>\n      <td>4</td>\n      <td>2024-09-08T08:50:00</td>\n      <td>41.95</td>\n      <td>0</td>\n    </tr>\n    <tr>\n      <th>4</th>\n      <td>BINTER CANARIAS</td>\n      <td>2024-09-08T07:00:00</td>\n      <td>2</td>\n      <td>2024-09-08T08:50:00</td>\n      <td>32.20</td>\n      <td>0</td>\n    </tr>\n    <tr>\n      <th>5</th>\n      <td>AIR EUROPA</td>\n      <td>2024-09-08T07:05:00</td>\n      <td>2</td>\n      <td>2024-09-08T09:00:00</td>\n      <td>18.825</td>\n      <td>0</td>\n    </tr>\n    <tr>\n      <th>6</th>\n      <td>IBERIA</td>\n      <td>2024-09-08T11:30:00</td>\n      <td>4</td>\n      <td>2024-09-08T13:25:00</td>\n      <td>35.45</td>\n      <td>0</td>\n    </tr>\n    <tr>\n      <th>7</th>\n      <td>BINTER CANARIAS</td>\n      <td>2024-09-08T12:30:00</td>\n      <td>2</td>\n      <td>2024-09-08T14:20:00</td>\n      <td>32.20</td>\n      <td>0</td>\n    </tr>\n    <tr>\n      <th>8</th>\n      <td>IBERIA</td>\n      <td>2024-09-08T14:25:00</td>\n      <td>4</td>\n      <td>2024-09-08T16:20:00</td>\n      <td>56.95</td>\n      <td>0</td>\n    </tr>\n    <tr>\n      <th>9</th>\n      <td>VUELING AIRLINES</td>\n      <td>2024-09-08T14:25:00</td>\n      <td>4</td>\n      <td>2024-09-08T16:20:00</td>\n      <td>41.95</td>\n      <td>0</td>\n    </tr>\n    <tr>\n      <th>10</th>\n      <td>AIR EUROPA</td>\n      <td>2024-09-08T15:05:00</td>\n      <td>2</td>\n      <td>2024-09-08T17:00:00</td>\n      <td>34.325</td>\n      <td>0</td>\n    </tr>\n    <tr>\n      <th>11</th>\n      <td>IBERIA</td>\n      <td>2024-09-08T16:20:00</td>\n      <td>4</td>\n      <td>2024-09-08T18:20:00</td>\n      <td>66.95</td>\n      <td>0</td>\n    </tr>\n    <tr>\n      <th>12</th>\n      <td>VUELING AIRLINES</td>\n      <td>2024-09-08T16:20:00</td>\n      <td>4</td>\n      <td>2024-09-08T18:20:00</td>\n      <td>41.95</td>\n      <td>0</td>\n    </tr>\n    <tr>\n      <th>13</th>\n      <td>BINTER CANARIAS</td>\n      <td>2024-09-08T17:00:00</td>\n      <td>2</td>\n      <td>2024-09-08T18:50:00</td>\n      <td>37.20</td>\n      <td>0</td>\n    </tr>\n    <tr>\n      <th>14</th>\n      <td>IBERIA</td>\n      <td>2024-09-08T18:35:00</td>\n      <td>4</td>\n      <td>2024-09-08T20:30:00</td>\n      <td>66.95</td>\n      <td>0</td>\n    </tr>\n    <tr>\n      <th>15</th>\n      <td>VUELING AIRLINES</td>\n      <td>2024-09-08T18:35:00</td>\n      <td>4</td>\n      <td>2024-09-08T20:30:00</td>\n      <td>41.95</td>\n      <td>0</td>\n    </tr>\n    <tr>\n      <th>16</th>\n      <td>BINTER CANARIAS</td>\n      <td>2024-09-08T20:00:00</td>\n      <td>2</td>\n      <td>2024-09-08T21:50:00</td>\n      <td>34.70</td>\n      <td>0</td>\n    </tr>\n    <tr>\n      <th>17</th>\n      <td>AIR EUROPA</td>\n      <td>2024-09-08T20:10:00</td>\n      <td>2</td>\n      <td>2024-09-08T22:05:00</td>\n      <td>44.325</td>\n      <td>0</td>\n    </tr>\n    <tr>\n      <th>18</th>\n      <td>IBERIA</td>\n      <td>2024-09-08T20:25:00</td>\n      <td>4</td>\n      <td>2024-09-08T22:20:00</td>\n      <td>66.95</td>\n      <td>0</td>\n    </tr>\n    <tr>\n      <th>19</th>\n      <td>IBERIA</td>\n      <td>2024-09-08T22:50:00</td>\n      <td>4</td>\n      <td>2024-09-09T00:45:00</td>\n      <td>41.95</td>\n      <td>0</td>\n    </tr>\n  </tbody>\n</table>\n</div>"
     },
     "metadata": {}
    }
   ]
  },
  {
   "metadata": {
    "trusted": true
   },
   "cell_type": "code",
   "source": "",
   "execution_count": null,
   "outputs": []
  }
 ],
 "metadata": {
  "kernelspec": {
   "name": "python3",
   "display_name": "Python 3",
   "language": "python"
  },
  "language_info": {
   "name": "python",
   "version": "3.10.4",
   "mimetype": "text/x-python",
   "codemirror_mode": {
    "name": "ipython",
    "version": 3
   },
   "pygments_lexer": "ipython3",
   "nbconvert_exporter": "python",
   "file_extension": ".py"
  }
 },
 "nbformat": 4,
 "nbformat_minor": 2
}